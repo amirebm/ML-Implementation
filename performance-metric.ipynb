{
 "cells": [
  {
   "cell_type": "code",
   "execution_count": 1,
   "metadata": {},
   "outputs": [
    {
     "data": {
      "text/plain": [
       "100.0"
      ]
     },
     "execution_count": 1,
     "metadata": {},
     "output_type": "execute_result"
    }
   ],
   "source": [
    "y_true=[1,0,1,1,0,1,1,0,1,0] # y_true yani ma tashkhis dadim to donyaye vagee, 1 yani bimaremon tomor\n",
    "#dashte va 0 yani bimaremon tomor nadare\n",
    "y_pred=[1,0,1,1,0,1,1,0,1,0] # pishbini ma ham kamelan dorost boode va daghighan motabeghe ba donyaye\n",
    "#vaghee\n",
    "from sklearn.metrics import accuracy_score\n",
    "acc= accuracy_score(y_true,y_pred) # entezar darim 100% ya 1 bashe chon tashkhis va pishbini baham\n",
    "#barabar hastand\n",
    "acc*100"
   ]
  },
  {
   "cell_type": "code",
   "execution_count": 2,
   "metadata": {},
   "outputs": [
    {
     "data": {
      "text/plain": [
       "np.float64(100.0)"
      ]
     },
     "execution_count": 2,
     "metadata": {},
     "output_type": "execute_result"
    }
   ],
   "source": [
    "from sklearn.metrics import precision_score\n",
    "pr=precision_score(y_true,y_pred) # inja ham entezar darim 1 beshe \n",
    "pr*100"
   ]
  },
  {
   "cell_type": "code",
   "execution_count": 3,
   "metadata": {},
   "outputs": [
    {
     "data": {
      "text/plain": [
       "np.float64(100.0)"
      ]
     },
     "execution_count": 3,
     "metadata": {},
     "output_type": "execute_result"
    }
   ],
   "source": [
    "from sklearn.metrics import recall_score\n",
    "r=recall_score(y_true,y_pred)\n",
    "r*100"
   ]
  },
  {
   "cell_type": "code",
   "execution_count": 4,
   "metadata": {},
   "outputs": [
    {
     "data": {
      "text/plain": [
       "90.0"
      ]
     },
     "execution_count": 4,
     "metadata": {},
     "output_type": "execute_result"
    }
   ],
   "source": [
    "y_true=[1,0,1,1,0,1,1,0,1,0] # y_true yani ma tashkhis dadim to donyaye vagee, 1 yani bimaremon tomor\n",
    "#dashte va 0 yani bimaremon tomor nadare\n",
    "y_pred=[0,0,1,1,0,1,1,0,1,0] # pishbini ma inja yedone true ha ro false taskhis dadim(avali)\n",
    "from sklearn.metrics import accuracy_score\n",
    "acc= accuracy_score(y_true,y_pred) # pas inja accuracy 9/10\n",
    "acc*100"
   ]
  },
  {
   "cell_type": "code",
   "execution_count": 5,
   "metadata": {},
   "outputs": [
    {
     "data": {
      "text/plain": [
       "np.float64(100.0)"
      ]
     },
     "execution_count": 5,
     "metadata": {},
     "output_type": "execute_result"
    }
   ],
   "source": [
    "from sklearn.metrics import precision_score\n",
    "pr=precision_score(y_true,y_pred) # ama az onjae injae ke precision inja ahamiati nadare mibinim ke \n",
    "#inja natije baraye ma bazam 100 \n",
    "pr*100"
   ]
  },
  {
   "cell_type": "code",
   "execution_count": 6,
   "metadata": {},
   "outputs": [
    {
     "data": {
      "text/plain": [
       "np.float64(83.33333333333334)"
      ]
     },
     "execution_count": 6,
     "metadata": {},
     "output_type": "execute_result"
    }
   ],
   "source": [
    "from sklearn.metrics import recall_score\n",
    "r=recall_score(y_true,y_pred) # ama mibinim ke alan recall dige 100 nist va shod 83%\n",
    "r*100"
   ]
  },
  {
   "cell_type": "code",
   "execution_count": 13,
   "metadata": {},
   "outputs": [
    {
     "data": {
      "text/plain": [
       "54.54545454545454"
      ]
     },
     "execution_count": 13,
     "metadata": {},
     "output_type": "execute_result"
    }
   ],
   "source": [
    "#Consider a computer program for recognizing dogs (the relevant element) in a digital photograph.\n",
    "#  Upon processing a picture which contains ten cats and twelve dogs, the program identifies eight dogs.\n",
    "#  Of the eight elements identified as dogs, only five actually are dogs (true positives), \n",
    "# while the other three are cats (false positives). Seven dogs were missed (false negatives),\n",
    "#  and seven cats were correctly excluded (true negatives). The program's precision is\n",
    "#  then 5/8 (true positives / selected elements) while its recall is 5/12\n",
    "#  (true positives / relevant elements).\n",
    "y_true=[1,0,1,1,0,1,1,0,1,0,1,0,1,1,0,1,1,0,1,0,0,0] # y_true yani to tasviremon 12 ta sag darim va\n",
    "#8 gorbe darim, 1 yani tedade sagha ( ke 12 ta hast) va 0 yani tedade gorbeha ( ke 8 ta hast)\n",
    "#dashte va 0 yani bimaremon tomor nadare\n",
    "y_pred=[1,1,1,0,0,1,0,1,1,0,0,0,1,0,0,0,0,0,0,1,0,0] # yani inja modele ma 8 ta ro sag  tashkhis dade\n",
    "#ama 5 ta sag ro dorost tashkhis dade ama 3 ta dige ke sag taskhis dade bood dar vaghe gorbe boodand\n",
    "#(mosbate kazeb yani FP) va 7 sag dar vaghe tashkhis nadade va bejash gorbe tashkhis dade(manfi kazeb)FN\n",
    "#hala accuracy mishe = TP + TN / TP + TN + FP + FN = 12/22 = 0.6\n",
    "from sklearn.metrics import accuracy_score\n",
    "acc= accuracy_score(y_true,y_pred) # pas inja accuracy 9/10\n",
    "acc*100\n"
   ]
  },
  {
   "cell_type": "code",
   "execution_count": 14,
   "metadata": {},
   "outputs": [
    {
     "data": {
      "text/plain": [
       "np.float64(62.5)"
      ]
     },
     "execution_count": 14,
     "metadata": {},
     "output_type": "execute_result"
    }
   ],
   "source": [
    "from sklearn.metrics import precision_score\n",
    "pr=precision_score(y_true,y_pred) # ama az onjae injae ke precision inja ahamiati nadare mibinim ke \n",
    "#inja natije baraye ma bazam 100 \n",
    "pr*100"
   ]
  },
  {
   "cell_type": "code",
   "execution_count": 15,
   "metadata": {},
   "outputs": [
    {
     "data": {
      "text/plain": [
       "np.float64(41.66666666666667)"
      ]
     },
     "execution_count": 15,
     "metadata": {},
     "output_type": "execute_result"
    }
   ],
   "source": [
    "from sklearn.metrics import recall_score\n",
    "r=recall_score(y_true,y_pred) # ama mibinim ke alan recall dige 100 nist va shod 83%\n",
    "r*100"
   ]
  },
  {
   "cell_type": "code",
   "execution_count": 16,
   "metadata": {},
   "outputs": [
    {
     "data": {
      "text/plain": [
       "95.45454545454545"
      ]
     },
     "execution_count": 16,
     "metadata": {},
     "output_type": "execute_result"
    }
   ],
   "source": [
    "y_true=[1,0,1,1,0,1,1,0,1,0,1,0,1,1,0,1,1,0,1,0,0,0] # y_true yani to tasviremon 12 ta sag darim va\n",
    "# 8 gorbe darim, 1 yani tedade sagha ( ke 12 ta hast) va 0 yani tedade gorbeha ( ke 8 ta hast)\n",
    "#dashte va 0 yani bimaremon tomor nadare\n",
    "y_pred=[0,0,1,1,0,1,1,0,1,0,1,0,1,1,0,1,1,0,1,0,0,0] # yani inja modele ma 8 ta ro sag  tashkhis dade\n",
    "#ama 5 ta sag ro dorost tashkhis dade ama 3 ta dige ke sag taskhis dade bood dar vaghe gorbe boodand\n",
    "#(mosbate kazeb yani FP) va 7 sag dar vaghe tashkhis nadade va bejash gorbe tashkhis dade(manfi kazeb)FN\n",
    "#hala accuracy mishe = TP + TN / TP + TN + FP + FN = 12/22 = 0.6\n",
    "from sklearn.metrics import accuracy_score\n",
    "acc= accuracy_score(y_true,y_pred) # pas inja accuracy 9/10\n",
    "acc*100\n",
    "\n"
   ]
  },
  {
   "cell_type": "code",
   "execution_count": 17,
   "metadata": {},
   "outputs": [
    {
     "data": {
      "text/plain": [
       "np.float64(100.0)"
      ]
     },
     "execution_count": 17,
     "metadata": {},
     "output_type": "execute_result"
    }
   ],
   "source": [
    "from sklearn.metrics import precision_score\n",
    "pr=precision_score(y_true,y_pred) # ama az onjae injae ke precision inja ahamiati nadare mibinim ke \n",
    "#inja natije baraye ma bazam 100 \n",
    "pr*100"
   ]
  },
  {
   "cell_type": "code",
   "execution_count": 18,
   "metadata": {},
   "outputs": [
    {
     "data": {
      "text/plain": [
       "np.float64(91.66666666666666)"
      ]
     },
     "execution_count": 18,
     "metadata": {},
     "output_type": "execute_result"
    }
   ],
   "source": [
    "from sklearn.metrics import recall_score\n",
    "r=recall_score(y_true,y_pred) # ama mibinim ke alan recall dige 100 nist va shod 83%\n",
    "r*100"
   ]
  },
  {
   "cell_type": "code",
   "execution_count": 19,
   "metadata": {},
   "outputs": [
    {
     "data": {
      "text/plain": [
       "95.45454545454545"
      ]
     },
     "execution_count": 19,
     "metadata": {},
     "output_type": "execute_result"
    }
   ],
   "source": [
    "y_true=[1,0,1,1,0,1,1,0,1,0,1,0,1,1,0,1,1,0,1,0,0,0] # y_true yani to tasviremon 12 ta sag darim va\n",
    "# 8 gorbe darim, 1 yani tedade sagha ( ke 12 ta hast) va 0 yani tedade gorbeha ( ke 8 ta hast)\n",
    "#dashte va 0 yani bimaremon tomor nadare\n",
    "y_pred=[1,1,1,1,0,1,1,0,1,0,1,0,1,1,0,1,1,0,1,0,0,0] # yani inja modele ma 8 ta ro sag  tashkhis dade\n",
    "#ama 5 ta sag ro dorost tashkhis dade ama 3 ta dige ke sag taskhis dade bood dar vaghe gorbe boodand\n",
    "#(mosbate kazeb yani FP) va 7 sag dar vaghe tashkhis nadade va bejash gorbe tashkhis dade(manfi kazeb)FN\n",
    "#hala accuracy mishe = TP + TN / TP + TN + FP + FN = 12/22 = 0.6\n",
    "from sklearn.metrics import accuracy_score\n",
    "acc= accuracy_score(y_true,y_pred) # pas inja accuracy 9/10\n",
    "acc*100\n"
   ]
  },
  {
   "cell_type": "code",
   "execution_count": 20,
   "metadata": {},
   "outputs": [
    {
     "data": {
      "text/plain": [
       "np.float64(92.3076923076923)"
      ]
     },
     "execution_count": 20,
     "metadata": {},
     "output_type": "execute_result"
    }
   ],
   "source": [
    "from sklearn.metrics import precision_score\n",
    "pr=precision_score(y_true,y_pred) # ama az onjae injae ke precision inja ahamiati nadare mibinim ke \n",
    "#inja natije baraye ma bazam 100 \n",
    "pr*100"
   ]
  },
  {
   "cell_type": "code",
   "execution_count": 22,
   "metadata": {},
   "outputs": [
    {
     "data": {
      "text/plain": [
       "np.float64(100.0)"
      ]
     },
     "execution_count": 22,
     "metadata": {},
     "output_type": "execute_result"
    }
   ],
   "source": [
    "from sklearn.metrics import recall_score\n",
    "r=recall_score(y_true,y_pred) # ama mibinim ke alan recall dige 100 nist va shod 83%\n",
    "r*100"
   ]
  },
  {
   "cell_type": "code",
   "execution_count": null,
   "metadata": {},
   "outputs": [],
   "source": []
  }
 ],
 "metadata": {
  "kernelspec": {
   "display_name": "learning",
   "language": "python",
   "name": "python3"
  },
  "language_info": {
   "codemirror_mode": {
    "name": "ipython",
    "version": 3
   },
   "file_extension": ".py",
   "mimetype": "text/x-python",
   "name": "python",
   "nbconvert_exporter": "python",
   "pygments_lexer": "ipython3",
   "version": "3.12.2"
  }
 },
 "nbformat": 4,
 "nbformat_minor": 2
}
