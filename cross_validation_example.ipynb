{
  "nbformat": 4,
  "nbformat_minor": 0,
  "metadata": {
    "colab": {
      "provenance": []
    },
    "kernelspec": {
      "name": "python3",
      "display_name": "Python 3"
    },
    "language_info": {
      "name": "python"
    }
  },
  "cells": [
    {
      "cell_type": "markdown",
      "source": [
        "#Dataset Creation"
      ],
      "metadata": {
        "id": "FeCu37Q5UT7L"
      }
    },
    {
      "cell_type": "code",
      "execution_count": 12,
      "metadata": {
        "id": "SU855dpQTbhh"
      },
      "outputs": [],
      "source": [
        "from sklearn.datasets import make_classification\n"
      ]
    },
    {
      "cell_type": "code",
      "source": [
        "X,y=make_classification(n_samples=1000,n_features=10,n_informative=8,n_redundant=2,random_state=0)\n",
        "print(X.shape,y.shape)"
      ],
      "metadata": {
        "colab": {
          "base_uri": "https://localhost:8080/"
        },
        "id": "zbq_3BYcT789",
        "outputId": "d2f0b09e-cd0a-4faa-9124-594fcecf0104"
      },
      "execution_count": 13,
      "outputs": [
        {
          "output_type": "stream",
          "name": "stdout",
          "text": [
            "(1000, 10) (1000,)\n"
          ]
        }
      ]
    },
    {
      "cell_type": "code",
      "source": [
        "X[60]"
      ],
      "metadata": {
        "colab": {
          "base_uri": "https://localhost:8080/"
        },
        "id": "tQoojupxUCBP",
        "outputId": "44a66ec5-2558-4a8d-d966-43bb822758fc"
      },
      "execution_count": 14,
      "outputs": [
        {
          "output_type": "execute_result",
          "data": {
            "text/plain": [
              "array([ 0.55004084,  1.40940304, -2.74862205, -4.80233427,  5.0953792 ,\n",
              "        2.02387354,  1.03232545, -0.91652994, -3.360814  , -1.73222718])"
            ]
          },
          "metadata": {},
          "execution_count": 14
        }
      ]
    },
    {
      "cell_type": "markdown",
      "source": [
        "#Model Definition"
      ],
      "metadata": {
        "id": "A7XiTOF4UwnS"
      }
    },
    {
      "cell_type": "code",
      "source": [
        "import tensorflow as tf\n",
        "from tensorflow import keras\n",
        "\n",
        "def create_model():\n",
        "  model=keras.models.Sequential()\n",
        "  model.add(keras.layers.Dense(32,activation='relu'))\n",
        "  model.add(keras.layers.Dense(1,activation='sigmoid'))\n",
        "\n",
        "  model.compile(optimizer='adam',loss='binary_crossentropy',metrics=['accuracy'])\n",
        "  return model\n"
      ],
      "metadata": {
        "id": "ASC2Frf7UznV"
      },
      "execution_count": 15,
      "outputs": []
    },
    {
      "cell_type": "markdown",
      "source": [
        "#Cross Validation"
      ],
      "metadata": {
        "id": "MAvx2f4wVamh"
      }
    },
    {
      "cell_type": "code",
      "source": [
        "n_split=5\n",
        "from sklearn.model_selection import StratifiedKFold\n",
        "from  sklearn.metrics import accuracy_score\n",
        "\n",
        "kf=StratifiedKFold(n_splits=n_split,shuffle=True)\n"
      ],
      "metadata": {
        "id": "y9UU9dPcVd1j"
      },
      "execution_count": 16,
      "outputs": []
    },
    {
      "cell_type": "code",
      "source": [
        "acc_total=[]\n",
        "for train_index,validation_index in kf.split(X,y):\n",
        "  X_train=X[train_index]\n",
        "  y_train=y[train_index]\n",
        "\n",
        "  X_validation=X[validation_index]\n",
        "  y_validation=y[validation_index]\n",
        "\n",
        "  #model\n",
        "  model=create_model()\n",
        "  model.fit(X_train,y_train,epochs=20,batch_size=64,validation_data=(X_validation,y_validation),verbose=2)\n",
        "\n",
        "  #prediction\n",
        "  y_pred=model.predict(X_validation)\n",
        "  y_pred=(y_pred>0.5).astype(int)\n",
        "\n",
        "  #accuracy\n",
        "  acc=accuracy_score(y_true=y_validation,y_pred=y_pred)\n",
        "  acc_total.append(acc)\n",
        "  print(acc)"
      ],
      "metadata": {
        "colab": {
          "base_uri": "https://localhost:8080/"
        },
        "id": "pDiKMzLXWSK7",
        "outputId": "2498d926-6aeb-47b8-853a-2ee18626498c"
      },
      "execution_count": 17,
      "outputs": [
        {
          "output_type": "stream",
          "name": "stdout",
          "text": [
            "Epoch 1/20\n",
            "13/13 - 2s - 158ms/step - accuracy: 0.4625 - loss: 0.7770 - val_accuracy: 0.5200 - val_loss: 0.7464\n",
            "Epoch 2/20\n",
            "13/13 - 0s - 33ms/step - accuracy: 0.6075 - loss: 0.6338 - val_accuracy: 0.6700 - val_loss: 0.6205\n",
            "Epoch 3/20\n",
            "13/13 - 0s - 8ms/step - accuracy: 0.7462 - loss: 0.5416 - val_accuracy: 0.7500 - val_loss: 0.5294\n",
            "Epoch 4/20\n",
            "13/13 - 0s - 11ms/step - accuracy: 0.7987 - loss: 0.4744 - val_accuracy: 0.8050 - val_loss: 0.4663\n",
            "Epoch 5/20\n",
            "13/13 - 0s - 10ms/step - accuracy: 0.8338 - loss: 0.4277 - val_accuracy: 0.8400 - val_loss: 0.4176\n",
            "Epoch 6/20\n",
            "13/13 - 0s - 12ms/step - accuracy: 0.8475 - loss: 0.3911 - val_accuracy: 0.8550 - val_loss: 0.3787\n",
            "Epoch 7/20\n",
            "13/13 - 0s - 21ms/step - accuracy: 0.8675 - loss: 0.3620 - val_accuracy: 0.8750 - val_loss: 0.3464\n",
            "Epoch 8/20\n",
            "13/13 - 0s - 11ms/step - accuracy: 0.8863 - loss: 0.3379 - val_accuracy: 0.8850 - val_loss: 0.3215\n",
            "Epoch 9/20\n",
            "13/13 - 0s - 11ms/step - accuracy: 0.8950 - loss: 0.3191 - val_accuracy: 0.8950 - val_loss: 0.2987\n",
            "Epoch 10/20\n",
            "13/13 - 0s - 10ms/step - accuracy: 0.9025 - loss: 0.3026 - val_accuracy: 0.9000 - val_loss: 0.2796\n",
            "Epoch 11/20\n",
            "13/13 - 0s - 10ms/step - accuracy: 0.9112 - loss: 0.2884 - val_accuracy: 0.9150 - val_loss: 0.2650\n",
            "Epoch 12/20\n",
            "13/13 - 0s - 10ms/step - accuracy: 0.9137 - loss: 0.2765 - val_accuracy: 0.9250 - val_loss: 0.2510\n",
            "Epoch 13/20\n",
            "13/13 - 0s - 13ms/step - accuracy: 0.9212 - loss: 0.2659 - val_accuracy: 0.9300 - val_loss: 0.2384\n",
            "Epoch 14/20\n",
            "13/13 - 0s - 20ms/step - accuracy: 0.9212 - loss: 0.2573 - val_accuracy: 0.9350 - val_loss: 0.2271\n",
            "Epoch 15/20\n",
            "13/13 - 0s - 9ms/step - accuracy: 0.9237 - loss: 0.2489 - val_accuracy: 0.9350 - val_loss: 0.2183\n",
            "Epoch 16/20\n",
            "13/13 - 0s - 11ms/step - accuracy: 0.9237 - loss: 0.2417 - val_accuracy: 0.9400 - val_loss: 0.2102\n",
            "Epoch 17/20\n",
            "13/13 - 0s - 10ms/step - accuracy: 0.9287 - loss: 0.2353 - val_accuracy: 0.9400 - val_loss: 0.2014\n",
            "Epoch 18/20\n",
            "13/13 - 0s - 11ms/step - accuracy: 0.9300 - loss: 0.2293 - val_accuracy: 0.9400 - val_loss: 0.1954\n",
            "Epoch 19/20\n",
            "13/13 - 0s - 11ms/step - accuracy: 0.9312 - loss: 0.2235 - val_accuracy: 0.9400 - val_loss: 0.1883\n",
            "Epoch 20/20\n",
            "13/13 - 0s - 10ms/step - accuracy: 0.9350 - loss: 0.2184 - val_accuracy: 0.9450 - val_loss: 0.1823\n",
            "\u001b[1m7/7\u001b[0m \u001b[32m━━━━━━━━━━━━━━━━━━━━\u001b[0m\u001b[37m\u001b[0m \u001b[1m0s\u001b[0m 6ms/step \n",
            "0.945\n",
            "Epoch 1/20\n",
            "13/13 - 1s - 98ms/step - accuracy: 0.5025 - loss: 0.9455 - val_accuracy: 0.5200 - val_loss: 0.8243\n",
            "Epoch 2/20\n",
            "13/13 - 0s - 9ms/step - accuracy: 0.5725 - loss: 0.7592 - val_accuracy: 0.6650 - val_loss: 0.6649\n",
            "Epoch 3/20\n",
            "13/13 - 0s - 10ms/step - accuracy: 0.6975 - loss: 0.6232 - val_accuracy: 0.7400 - val_loss: 0.5513\n",
            "Epoch 4/20\n",
            "13/13 - 0s - 11ms/step - accuracy: 0.7625 - loss: 0.5302 - val_accuracy: 0.7850 - val_loss: 0.4693\n",
            "Epoch 5/20\n",
            "13/13 - 0s - 7ms/step - accuracy: 0.8037 - loss: 0.4597 - val_accuracy: 0.8150 - val_loss: 0.4154\n",
            "Epoch 6/20\n",
            "13/13 - 0s - 6ms/step - accuracy: 0.8450 - loss: 0.4094 - val_accuracy: 0.8550 - val_loss: 0.3760\n",
            "Epoch 7/20\n",
            "13/13 - 0s - 5ms/step - accuracy: 0.8775 - loss: 0.3710 - val_accuracy: 0.8850 - val_loss: 0.3470\n",
            "Epoch 8/20\n",
            "13/13 - 0s - 6ms/step - accuracy: 0.8988 - loss: 0.3408 - val_accuracy: 0.8900 - val_loss: 0.3252\n",
            "Epoch 9/20\n",
            "13/13 - 0s - 6ms/step - accuracy: 0.9100 - loss: 0.3161 - val_accuracy: 0.9000 - val_loss: 0.3083\n",
            "Epoch 10/20\n",
            "13/13 - 0s - 6ms/step - accuracy: 0.9187 - loss: 0.2961 - val_accuracy: 0.8900 - val_loss: 0.2944\n",
            "Epoch 11/20\n",
            "13/13 - 0s - 6ms/step - accuracy: 0.9250 - loss: 0.2794 - val_accuracy: 0.9000 - val_loss: 0.2834\n",
            "Epoch 12/20\n",
            "13/13 - 0s - 6ms/step - accuracy: 0.9275 - loss: 0.2647 - val_accuracy: 0.9050 - val_loss: 0.2739\n",
            "Epoch 13/20\n",
            "13/13 - 0s - 6ms/step - accuracy: 0.9287 - loss: 0.2527 - val_accuracy: 0.9050 - val_loss: 0.2660\n",
            "Epoch 14/20\n",
            "13/13 - 0s - 6ms/step - accuracy: 0.9300 - loss: 0.2419 - val_accuracy: 0.9150 - val_loss: 0.2601\n",
            "Epoch 15/20\n",
            "13/13 - 0s - 12ms/step - accuracy: 0.9275 - loss: 0.2325 - val_accuracy: 0.9200 - val_loss: 0.2545\n",
            "Epoch 16/20\n",
            "13/13 - 0s - 6ms/step - accuracy: 0.9337 - loss: 0.2247 - val_accuracy: 0.9250 - val_loss: 0.2501\n",
            "Epoch 17/20\n",
            "13/13 - 0s - 8ms/step - accuracy: 0.9362 - loss: 0.2175 - val_accuracy: 0.9250 - val_loss: 0.2460\n",
            "Epoch 18/20\n",
            "13/13 - 0s - 5ms/step - accuracy: 0.9362 - loss: 0.2110 - val_accuracy: 0.9250 - val_loss: 0.2427\n",
            "Epoch 19/20\n",
            "13/13 - 0s - 7ms/step - accuracy: 0.9388 - loss: 0.2059 - val_accuracy: 0.9250 - val_loss: 0.2398\n",
            "Epoch 20/20\n",
            "13/13 - 0s - 10ms/step - accuracy: 0.9375 - loss: 0.2005 - val_accuracy: 0.9250 - val_loss: 0.2372\n",
            "\u001b[1m7/7\u001b[0m \u001b[32m━━━━━━━━━━━━━━━━━━━━\u001b[0m\u001b[37m\u001b[0m \u001b[1m0s\u001b[0m 6ms/step \n",
            "0.925\n",
            "Epoch 1/20\n",
            "13/13 - 1s - 96ms/step - accuracy: 0.4575 - loss: 0.8592 - val_accuracy: 0.5000 - val_loss: 0.8300\n",
            "Epoch 2/20\n",
            "13/13 - 0s - 10ms/step - accuracy: 0.5625 - loss: 0.7120 - val_accuracy: 0.6050 - val_loss: 0.6959\n",
            "Epoch 3/20\n",
            "13/13 - 0s - 10ms/step - accuracy: 0.6913 - loss: 0.5978 - val_accuracy: 0.7050 - val_loss: 0.5953\n",
            "Epoch 4/20\n",
            "13/13 - 0s - 11ms/step - accuracy: 0.7850 - loss: 0.5128 - val_accuracy: 0.7550 - val_loss: 0.5192\n",
            "Epoch 5/20\n",
            "13/13 - 0s - 7ms/step - accuracy: 0.8250 - loss: 0.4508 - val_accuracy: 0.8300 - val_loss: 0.4582\n",
            "Epoch 6/20\n",
            "13/13 - 0s - 10ms/step - accuracy: 0.8575 - loss: 0.4039 - val_accuracy: 0.8700 - val_loss: 0.4114\n",
            "Epoch 7/20\n",
            "13/13 - 0s - 10ms/step - accuracy: 0.8750 - loss: 0.3659 - val_accuracy: 0.8800 - val_loss: 0.3756\n",
            "Epoch 8/20\n",
            "13/13 - 0s - 11ms/step - accuracy: 0.8875 - loss: 0.3367 - val_accuracy: 0.9000 - val_loss: 0.3465\n",
            "Epoch 9/20\n",
            "13/13 - 0s - 10ms/step - accuracy: 0.8938 - loss: 0.3125 - val_accuracy: 0.9100 - val_loss: 0.3239\n",
            "Epoch 10/20\n",
            "13/13 - 0s - 11ms/step - accuracy: 0.8963 - loss: 0.2928 - val_accuracy: 0.9150 - val_loss: 0.3054\n",
            "Epoch 11/20\n",
            "13/13 - 0s - 10ms/step - accuracy: 0.9062 - loss: 0.2762 - val_accuracy: 0.9150 - val_loss: 0.2894\n",
            "Epoch 12/20\n",
            "13/13 - 0s - 5ms/step - accuracy: 0.9150 - loss: 0.2623 - val_accuracy: 0.9250 - val_loss: 0.2762\n",
            "Epoch 13/20\n",
            "13/13 - 0s - 12ms/step - accuracy: 0.9175 - loss: 0.2502 - val_accuracy: 0.9250 - val_loss: 0.2659\n",
            "Epoch 14/20\n",
            "13/13 - 0s - 10ms/step - accuracy: 0.9250 - loss: 0.2401 - val_accuracy: 0.9300 - val_loss: 0.2565\n",
            "Epoch 15/20\n",
            "13/13 - 0s - 11ms/step - accuracy: 0.9287 - loss: 0.2311 - val_accuracy: 0.9450 - val_loss: 0.2474\n",
            "Epoch 16/20\n",
            "13/13 - 0s - 10ms/step - accuracy: 0.9325 - loss: 0.2228 - val_accuracy: 0.9450 - val_loss: 0.2406\n",
            "Epoch 17/20\n",
            "13/13 - 0s - 5ms/step - accuracy: 0.9337 - loss: 0.2154 - val_accuracy: 0.9450 - val_loss: 0.2344\n",
            "Epoch 18/20\n",
            "13/13 - 0s - 11ms/step - accuracy: 0.9350 - loss: 0.2094 - val_accuracy: 0.9450 - val_loss: 0.2301\n",
            "Epoch 19/20\n",
            "13/13 - 0s - 6ms/step - accuracy: 0.9400 - loss: 0.2036 - val_accuracy: 0.9450 - val_loss: 0.2246\n",
            "Epoch 20/20\n",
            "13/13 - 0s - 11ms/step - accuracy: 0.9425 - loss: 0.1980 - val_accuracy: 0.9450 - val_loss: 0.2213\n",
            "\u001b[1m7/7\u001b[0m \u001b[32m━━━━━━━━━━━━━━━━━━━━\u001b[0m\u001b[37m\u001b[0m \u001b[1m0s\u001b[0m 7ms/step \n",
            "0.945\n",
            "Epoch 1/20\n",
            "13/13 - 1s - 96ms/step - accuracy: 0.4563 - loss: 0.9198 - val_accuracy: 0.5350 - val_loss: 0.7205\n",
            "Epoch 2/20\n",
            "13/13 - 0s - 9ms/step - accuracy: 0.5825 - loss: 0.7199 - val_accuracy: 0.6850 - val_loss: 0.5786\n",
            "Epoch 3/20\n",
            "13/13 - 0s - 8ms/step - accuracy: 0.7175 - loss: 0.5734 - val_accuracy: 0.7800 - val_loss: 0.4831\n",
            "Epoch 4/20\n",
            "13/13 - 0s - 10ms/step - accuracy: 0.8012 - loss: 0.4759 - val_accuracy: 0.8450 - val_loss: 0.4203\n",
            "Epoch 5/20\n",
            "13/13 - 0s - 8ms/step - accuracy: 0.8462 - loss: 0.4120 - val_accuracy: 0.8750 - val_loss: 0.3799\n",
            "Epoch 6/20\n",
            "13/13 - 0s - 11ms/step - accuracy: 0.8763 - loss: 0.3681 - val_accuracy: 0.8800 - val_loss: 0.3529\n",
            "Epoch 7/20\n",
            "13/13 - 0s - 10ms/step - accuracy: 0.8938 - loss: 0.3386 - val_accuracy: 0.8850 - val_loss: 0.3326\n",
            "Epoch 8/20\n",
            "13/13 - 0s - 14ms/step - accuracy: 0.9038 - loss: 0.3152 - val_accuracy: 0.8850 - val_loss: 0.3171\n",
            "Epoch 9/20\n",
            "13/13 - 0s - 10ms/step - accuracy: 0.9100 - loss: 0.2967 - val_accuracy: 0.8850 - val_loss: 0.3041\n",
            "Epoch 10/20\n",
            "13/13 - 0s - 9ms/step - accuracy: 0.9125 - loss: 0.2815 - val_accuracy: 0.8850 - val_loss: 0.2931\n",
            "Epoch 11/20\n",
            "13/13 - 0s - 12ms/step - accuracy: 0.9162 - loss: 0.2685 - val_accuracy: 0.8850 - val_loss: 0.2838\n",
            "Epoch 12/20\n",
            "13/13 - 0s - 10ms/step - accuracy: 0.9200 - loss: 0.2573 - val_accuracy: 0.8850 - val_loss: 0.2758\n",
            "Epoch 13/20\n",
            "13/13 - 0s - 11ms/step - accuracy: 0.9225 - loss: 0.2476 - val_accuracy: 0.8850 - val_loss: 0.2687\n",
            "Epoch 14/20\n",
            "13/13 - 0s - 10ms/step - accuracy: 0.9275 - loss: 0.2393 - val_accuracy: 0.8900 - val_loss: 0.2628\n",
            "Epoch 15/20\n",
            "13/13 - 0s - 12ms/step - accuracy: 0.9287 - loss: 0.2318 - val_accuracy: 0.8900 - val_loss: 0.2578\n",
            "Epoch 16/20\n",
            "13/13 - 0s - 20ms/step - accuracy: 0.9300 - loss: 0.2252 - val_accuracy: 0.9000 - val_loss: 0.2532\n",
            "Epoch 17/20\n",
            "13/13 - 0s - 11ms/step - accuracy: 0.9337 - loss: 0.2193 - val_accuracy: 0.9050 - val_loss: 0.2492\n",
            "Epoch 18/20\n",
            "13/13 - 0s - 10ms/step - accuracy: 0.9375 - loss: 0.2138 - val_accuracy: 0.9050 - val_loss: 0.2457\n",
            "Epoch 19/20\n",
            "13/13 - 0s - 11ms/step - accuracy: 0.9375 - loss: 0.2089 - val_accuracy: 0.9150 - val_loss: 0.2423\n",
            "Epoch 20/20\n",
            "13/13 - 0s - 6ms/step - accuracy: 0.9400 - loss: 0.2048 - val_accuracy: 0.9150 - val_loss: 0.2396\n",
            "\u001b[1m7/7\u001b[0m \u001b[32m━━━━━━━━━━━━━━━━━━━━\u001b[0m\u001b[37m\u001b[0m \u001b[1m0s\u001b[0m 8ms/step \n",
            "0.915\n",
            "Epoch 1/20\n",
            "13/13 - 1s - 95ms/step - accuracy: 0.5013 - loss: 0.7688 - val_accuracy: 0.6050 - val_loss: 0.7269\n",
            "Epoch 2/20\n",
            "13/13 - 0s - 6ms/step - accuracy: 0.6237 - loss: 0.6545 - val_accuracy: 0.7150 - val_loss: 0.6131\n",
            "Epoch 3/20\n",
            "13/13 - 0s - 7ms/step - accuracy: 0.7362 - loss: 0.5667 - val_accuracy: 0.7750 - val_loss: 0.5271\n",
            "Epoch 4/20\n",
            "13/13 - 0s - 6ms/step - accuracy: 0.7950 - loss: 0.5000 - val_accuracy: 0.8350 - val_loss: 0.4615\n",
            "Epoch 5/20\n",
            "13/13 - 0s - 5ms/step - accuracy: 0.8413 - loss: 0.4471 - val_accuracy: 0.8700 - val_loss: 0.4116\n",
            "Epoch 6/20\n",
            "13/13 - 0s - 6ms/step - accuracy: 0.8600 - loss: 0.4054 - val_accuracy: 0.8850 - val_loss: 0.3721\n",
            "Epoch 7/20\n",
            "13/13 - 0s - 6ms/step - accuracy: 0.8788 - loss: 0.3713 - val_accuracy: 0.8900 - val_loss: 0.3398\n",
            "Epoch 8/20\n",
            "13/13 - 0s - 12ms/step - accuracy: 0.8888 - loss: 0.3442 - val_accuracy: 0.9050 - val_loss: 0.3133\n",
            "Epoch 9/20\n",
            "13/13 - 0s - 5ms/step - accuracy: 0.8938 - loss: 0.3201 - val_accuracy: 0.9200 - val_loss: 0.2916\n",
            "Epoch 10/20\n",
            "13/13 - 0s - 11ms/step - accuracy: 0.8975 - loss: 0.3007 - val_accuracy: 0.9200 - val_loss: 0.2735\n",
            "Epoch 11/20\n",
            "13/13 - 0s - 7ms/step - accuracy: 0.9050 - loss: 0.2841 - val_accuracy: 0.9200 - val_loss: 0.2577\n",
            "Epoch 12/20\n",
            "13/13 - 0s - 5ms/step - accuracy: 0.9112 - loss: 0.2697 - val_accuracy: 0.9250 - val_loss: 0.2438\n",
            "Epoch 13/20\n",
            "13/13 - 0s - 5ms/step - accuracy: 0.9137 - loss: 0.2575 - val_accuracy: 0.9200 - val_loss: 0.2313\n",
            "Epoch 14/20\n",
            "13/13 - 0s - 12ms/step - accuracy: 0.9162 - loss: 0.2467 - val_accuracy: 0.9200 - val_loss: 0.2221\n",
            "Epoch 15/20\n",
            "13/13 - 0s - 7ms/step - accuracy: 0.9200 - loss: 0.2369 - val_accuracy: 0.9200 - val_loss: 0.2125\n",
            "Epoch 16/20\n",
            "13/13 - 0s - 10ms/step - accuracy: 0.9250 - loss: 0.2287 - val_accuracy: 0.9250 - val_loss: 0.2041\n",
            "Epoch 17/20\n",
            "13/13 - 0s - 6ms/step - accuracy: 0.9287 - loss: 0.2212 - val_accuracy: 0.9250 - val_loss: 0.1967\n",
            "Epoch 18/20\n",
            "13/13 - 0s - 6ms/step - accuracy: 0.9325 - loss: 0.2144 - val_accuracy: 0.9250 - val_loss: 0.1898\n",
            "Epoch 19/20\n",
            "13/13 - 0s - 11ms/step - accuracy: 0.9350 - loss: 0.2088 - val_accuracy: 0.9350 - val_loss: 0.1839\n",
            "Epoch 20/20\n",
            "13/13 - 0s - 10ms/step - accuracy: 0.9350 - loss: 0.2040 - val_accuracy: 0.9350 - val_loss: 0.1793\n",
            "\u001b[1m7/7\u001b[0m \u001b[32m━━━━━━━━━━━━━━━━━━━━\u001b[0m\u001b[37m\u001b[0m \u001b[1m0s\u001b[0m 6ms/step \n",
            "0.935\n"
          ]
        }
      ]
    },
    {
      "cell_type": "code",
      "source": [
        "acc_total"
      ],
      "metadata": {
        "colab": {
          "base_uri": "https://localhost:8080/"
        },
        "id": "hczkw161Yw4T",
        "outputId": "935ef4e3-79b0-4200-e067-79f99f69bdce"
      },
      "execution_count": 18,
      "outputs": [
        {
          "output_type": "execute_result",
          "data": {
            "text/plain": [
              "[0.945, 0.925, 0.945, 0.915, 0.935]"
            ]
          },
          "metadata": {},
          "execution_count": 18
        }
      ]
    },
    {
      "cell_type": "code",
      "source": [
        "import numpy as np\n",
        "np.mean(acc_total)"
      ],
      "metadata": {
        "colab": {
          "base_uri": "https://localhost:8080/"
        },
        "id": "SjeHQ-vUY_CV",
        "outputId": "a85c0664-b95a-453d-9cc9-8775c389f6d2"
      },
      "execution_count": 19,
      "outputs": [
        {
          "output_type": "execute_result",
          "data": {
            "text/plain": [
              "0.933"
            ]
          },
          "metadata": {},
          "execution_count": 19
        }
      ]
    },
    {
      "cell_type": "code",
      "source": [],
      "metadata": {
        "id": "n3X8A5O4VOGJ"
      },
      "execution_count": 19,
      "outputs": []
    },
    {
      "cell_type": "code",
      "source": [],
      "metadata": {
        "id": "_c1sdU2rUOaG"
      },
      "execution_count": 19,
      "outputs": []
    }
  ]
}