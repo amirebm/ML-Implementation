{
 "cells": [
  {
   "cell_type": "code",
   "execution_count": 2,
   "metadata": {},
   "outputs": [],
   "source": [
    "import numpy as np\n",
    "from sklearn.decomposition import PCA\n",
    "from sklearn.preprocessing import StandardScaler"
   ]
  },
  {
   "cell_type": "code",
   "execution_count": 3,
   "metadata": {},
   "outputs": [
    {
     "name": "stdout",
     "output_type": "stream",
     "text": [
      "Original Data:\n",
      "[[1. 2. 3.]\n",
      " [4. 5. 6.]\n",
      " [7. 8. 9.]]\n",
      "\n",
      "Standardized Data:\n",
      "[[-1.22474487 -1.22474487 -1.22474487]\n",
      " [ 0.          0.          0.        ]\n",
      " [ 1.22474487  1.22474487  1.22474487]]\n",
      "\n",
      "Principal Components:\n",
      "[[ 0.57735027  0.57735027  0.57735027]\n",
      " [ 0.         -0.70710678  0.70710678]]\n",
      "\n",
      "Explained Variance Ratio:\n",
      "[1. 0.]\n",
      "\n",
      "Data in Reduced Dimensionality:\n",
      "[[-2.12132034e+00 -4.44089210e-16]\n",
      " [ 0.00000000e+00  0.00000000e+00]\n",
      " [ 2.12132034e+00  4.44089210e-16]]\n"
     ]
    }
   ],
   "source": [
    "# Create a sample dataset\n",
    "data = np.array([[1.0, 2.0, 3.0],\n",
    "                 [4.0, 5.0, 6.0],\n",
    "                 [7.0, 8.0, 9.0]])\n",
    "# Standardize the data\n",
    "scaler = StandardScaler()\n",
    "data_std = scaler.fit_transform(data)\n",
    "# Create a PCA instance\n",
    "pca = PCA(n_components=2)  # Specify the number of components\n",
    "# Fit PCA to the standardized data\n",
    "pca.fit(data_std)\n",
    "# Transform the data into the reduced dimensionality\n",
    "data_pca = pca.transform(data_std)\n",
    "# The principal components\n",
    "components = pca.components_\n",
    "# Explained variance ratio\n",
    "explained_variance_ratio = pca.explained_variance_ratio_\n",
    "# Print the results\n",
    "print(\"Original Data:\")\n",
    "print(data)\n",
    "print(\"\\nStandardized Data:\")\n",
    "print(data_std)\n",
    "print(\"\\nPrincipal Components:\")\n",
    "print(components)\n",
    "print(\"\\nExplained Variance Ratio:\")\n",
    "print(explained_variance_ratio)\n",
    "print(\"\\nData in Reduced Dimensionality:\")\n",
    "print(data_pca)"
   ]
  }
 ],
 "metadata": {
  "kernelspec": {
   "display_name": "learning",
   "language": "python",
   "name": "python3"
  },
  "language_info": {
   "codemirror_mode": {
    "name": "ipython",
    "version": 3
   },
   "file_extension": ".py",
   "mimetype": "text/x-python",
   "name": "python",
   "nbconvert_exporter": "python",
   "pygments_lexer": "ipython3",
   "version": "3.12.2"
  }
 },
 "nbformat": 4,
 "nbformat_minor": 2
}
